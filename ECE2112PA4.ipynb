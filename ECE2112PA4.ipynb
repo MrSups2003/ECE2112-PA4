{
 "cells": [
  {
   "cell_type": "code",
   "execution_count": null,
   "id": "fab1703e-8d65-45de-8c70-22faddd2e4c8",
   "metadata": {},
   "outputs": [],
   "source": [
    "import pandas as pd"
   ]
  },
  {
   "cell_type": "code",
   "execution_count": null,
   "id": "cd4701ec-fcb9-46dc-ad71-bb63b5740e3c",
   "metadata": {},
   "outputs": [],
   "source": [
    "df = pd.read_excel('board2.xlsx') #The file is in excel, use read_excel\n",
    "df"
   ]
  },
  {
   "cell_type": "markdown",
   "id": "65ba3085-ffdc-4e37-a6e5-ae51942ec930",
   "metadata": {},
   "source": [
    "# Part 1"
   ]
  },
  {
   "cell_type": "code",
   "execution_count": null,
   "id": "bd145c22-a280-49a9-a36e-8adea0995570",
   "metadata": {},
   "outputs": [],
   "source": [
    "# Here I made a dataframe called Instru that will only index that those have the Electronics as their score that are above 70.\n",
    "# and those who are only from Luzon and Have their Tracks as Instrumentation. \n",
    "# However, the results will only show the name, the score of GEAS, and Electronics\n",
    "Instru = df.loc[(df['Electronics']>70) \n",
    "& (df['Hometown'] == 'Luzon') \n",
    "& (df['Track'] == 'Instrumentation'), ['Name','GEAS','Electronics']]\n",
    "Instru"
   ]
  },
  {
   "cell_type": "code",
   "execution_count": null,
   "id": "f2e84410-8208-40cd-b5f6-141f1d0df15a",
   "metadata": {},
   "outputs": [],
   "source": [
    "#We created a new column called 'Average'. This is the score of Math, Electronics, GEAS, Communication divided by 4.\n",
    "# Do the same as from the first question but display only the name, track, electronics, and average. Also the dataframe name is called Mindy\n",
    "df['Average'] = (df.Math+df.Electronics+df.GEAS+df.Communication)/4 \n",
    "Mindy = df.loc[(df['Gender']=='Female') \n",
    "& (df['Hometown']=='Mindanao') \n",
    "& (df['Average'] >=55), \n",
    "[\"Name\", \"Track\", \"Electronics\", \"Average\"]]\n",
    "Mindy"
   ]
  },
  {
   "cell_type": "markdown",
   "id": "59b28b41-d123-4508-ba0d-3ac85cbfd66c",
   "metadata": {},
   "source": [
    "# Part 2"
   ]
  },
  {
   "cell_type": "code",
   "execution_count": null,
   "id": "a88692c7-5e52-4fa6-8516-2d1c0f8c05cf",
   "metadata": {},
   "outputs": [],
   "source": [
    "import matplotlib.pyplot as plt"
   ]
  },
  {
   "cell_type": "code",
   "execution_count": null,
   "id": "0efca601-896e-4789-836b-234ee5373da5",
   "metadata": {},
   "outputs": [],
   "source": [
    "# Here we use matplotlib in order to plot the average\n",
    "plt.figure(figsize=(15,4))\n",
    "plt.bar(df['Name'], df['Average'])"
   ]
  },
  {
   "cell_type": "code",
   "execution_count": null,
   "id": "18ed551d-2b25-4984-bbf0-0eef65db0c5c",
   "metadata": {},
   "outputs": [],
   "source": [
    "plt.bar(df['Track'], df['Average'])"
   ]
  },
  {
   "cell_type": "code",
   "execution_count": null,
   "id": "51ca316f-98aa-49c3-a4b7-d51556a21878",
   "metadata": {},
   "outputs": [],
   "source": [
    "plt.bar(df['Gender'], df['Average'])"
   ]
  }
 ],
 "metadata": {
  "kernelspec": {
   "display_name": "Python 3 (ipykernel)",
   "language": "python",
   "name": "python3"
  },
  "language_info": {
   "codemirror_mode": {
    "name": "ipython",
    "version": 3
   },
   "file_extension": ".py",
   "mimetype": "text/x-python",
   "name": "python",
   "nbconvert_exporter": "python",
   "pygments_lexer": "ipython3",
   "version": "3.12.4"
  }
 },
 "nbformat": 4,
 "nbformat_minor": 5
}
